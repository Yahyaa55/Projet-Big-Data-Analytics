{
 "cells": [
  {
   "cell_type": "code",
   "execution_count": 1,
   "id": "f0e361ef-b40f-47c4-8ebc-4eafe922619c",
   "metadata": {},
   "outputs": [],
   "source": [
    "import pandas as pd\n",
    "import numpy as np\n",
    "\n",
    "df = pd.read_csv('./Immatriculations.csv', encoding='windows-1252')\n",
    "df.to_csv('./Immatriculations_UTF8.csv', index=False, encoding='utf-8')"
   ]
  },
  {
   "cell_type": "code",
   "execution_count": 2,
   "id": "7df155d0-17f1-41b4-b296-5623449c364d",
   "metadata": {},
   "outputs": [],
   "source": [
    "import pandas as pd\n",
    "import numpy as np\n",
    "\n",
    "df = pd.read_csv('./Catalogue.csv', encoding='windows-1252')\n",
    "df.to_csv('./Catalogue_UTF8.csv', index=False, encoding='utf-8')"
   ]
  },
  {
   "cell_type": "code",
   "execution_count": 3,
   "id": "a9a8c2bf-fd49-41fd-aa79-519e40aeec32",
   "metadata": {},
   "outputs": [],
   "source": [
    "import pandas as pd\n",
    "import numpy as np\n",
    "\n",
    "df = pd.read_csv('./Clients_12.csv', encoding='windows-1252')\n",
    "df.to_csv('./Clients_12_UTF8.csv', index=False, encoding='utf-8')"
   ]
  },
  {
   "cell_type": "code",
   "execution_count": 4,
   "id": "1fd81b50-35e4-46fe-aa6e-5b5771aede22",
   "metadata": {},
   "outputs": [],
   "source": [
    "import pandas as pd\n",
    "import numpy as np\n",
    "\n",
    "df = pd.read_csv('./Clients_3.csv', encoding='windows-1252')\n",
    "df.to_csv('./Clients_3_UTF8.csv', index=False, encoding='utf-8')"
   ]
  },
  {
   "cell_type": "code",
   "execution_count": 5,
   "id": "dd2cf359-3124-4aac-9412-9bcca8706cd4",
   "metadata": {},
   "outputs": [],
   "source": [
    "import pandas as pd\n",
    "import numpy as np\n",
    "\n",
    "df = pd.read_csv('./Marketing.csv', encoding='windows-1252')\n",
    "df.to_csv('./Marketing_UTF8.csv', index=False, encoding='utf-8')"
   ]
  },
  {
   "cell_type": "code",
   "execution_count": 6,
   "id": "a73621e5-e533-40f0-bb57-205b01cb4964",
   "metadata": {},
   "outputs": [],
   "source": [
    "import pandas as pd\n",
    "import numpy as np\n",
    "\n",
    "df = pd.read_csv('./CO2.csv', encoding='windows-1252')\n",
    "df.to_csv('./CO2_UTF8.csv', index=False, encoding='utf-8')"
   ]
  },
  {
   "cell_type": "code",
   "execution_count": null,
   "id": "c75f8c3d-5aee-4fa8-ba46-ffba213d5c1c",
   "metadata": {},
   "outputs": [],
   "source": []
  }
 ],
 "metadata": {
  "kernelspec": {
   "display_name": "Python 3 (ipykernel)",
   "language": "python",
   "name": "python3"
  },
  "language_info": {
   "codemirror_mode": {
    "name": "ipython",
    "version": 3
   },
   "file_extension": ".py",
   "mimetype": "text/x-python",
   "name": "python",
   "nbconvert_exporter": "python",
   "pygments_lexer": "ipython3",
   "version": "3.9.18"
  }
 },
 "nbformat": 4,
 "nbformat_minor": 5
}
