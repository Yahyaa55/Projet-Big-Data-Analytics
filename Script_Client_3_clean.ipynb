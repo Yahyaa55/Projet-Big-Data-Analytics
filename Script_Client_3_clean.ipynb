{
 "cells": [
  {
   "cell_type": "code",
   "execution_count": 10,
   "id": "b6fa9877-f281-45c8-b976-7768a5cbb638",
   "metadata": {},
   "outputs": [],
   "source": [
    "import pandas as pd\n",
    "import numpy as np\n",
    "import re\n",
    "\n",
    "df = pd.read_csv('./Clients_3_UTF8.csv')\n",
    "\n",
    "df['age'] = pd.to_numeric(df['age'], errors='coerce')\n",
    "df['age'] = df['age'].apply(lambda x: x if 18 <= x <= 84 else np.nan)\n",
    "df['age'] = df['age'].astype('Int64', errors='ignore')\n",
    "\n",
    "sex_autorisé = ['M', 'F']\n",
    "df['sexe'] = df['sexe'].apply(lambda x: x if x in sex_autorisé else np.nan)\n",
    "\n",
    "df['taux'] = pd.to_numeric(df['taux'], errors='coerce')\n",
    "df['taux'] = df['taux'].apply(lambda x: x if 544 <= x <= 74185 else np.nan)\n",
    "df['taux'] = df['taux'].astype('Int64', errors='ignore')\n",
    "\n",
    "SituationFamiliale_autorisé = ['Célibataire', 'Divorcée', 'EnCouple', 'Marié', 'Mariée', 'Seul', 'Seule']\n",
    "df['situationFamiliale'] = df['situationFamiliale'].apply(lambda x: x if x in SituationFamiliale_autorisé else np.nan)\n",
    "\n",
    "df['nbEnfantsAcharge'] = pd.to_numeric(df['nbEnfantsAcharge'], errors='coerce')\n",
    "df['nbEnfantsAcharge'] = df['nbEnfantsAcharge'].apply(lambda x: x if 0 <= x <= 4 else np.nan)\n",
    "df['nbEnfantsAcharge'] = df['nbEnfantsAcharge'].astype('Int64', errors='ignore')\n",
    "\n",
    "df['2eme voiture'] = df['2eme voiture'].apply(lambda x: True if x == 'true' else (False if x == 'false' else np.nan))\n",
    "\n",
    "pattern = r'\\d{4}\\s[A-Z]{2}\\s\\d{2}'\n",
    "\n",
    "def check_format(value):\n",
    "    if pd.isna(value):  \n",
    "        return value\n",
    "    return value if re.match(pattern, value) else np.nan\n",
    "\n",
    "df['immatriculation'] = df['immatriculation'].apply(check_format)\n",
    "\n",
    "df.to_csv('./Clients_3_cleaned_UTF8.csv', index=False, encoding='utf-8')"
   ]
  },
  {
   "cell_type": "code",
   "execution_count": null,
   "id": "42253ba5-a690-4316-bf41-db2922afebf4",
   "metadata": {},
   "outputs": [],
   "source": []
  }
 ],
 "metadata": {
  "kernelspec": {
   "display_name": "Python 3 (ipykernel)",
   "language": "python",
   "name": "python3"
  },
  "language_info": {
   "codemirror_mode": {
    "name": "ipython",
    "version": 3
   },
   "file_extension": ".py",
   "mimetype": "text/x-python",
   "name": "python",
   "nbconvert_exporter": "python",
   "pygments_lexer": "ipython3",
   "version": "3.9.18"
  }
 },
 "nbformat": 4,
 "nbformat_minor": 5
}
