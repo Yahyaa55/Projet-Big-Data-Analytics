{
 "cells": [
  {
   "cell_type": "code",
   "execution_count": 5,
   "id": "503bac77-7241-44c5-b2c6-52eebe3a8ec9",
   "metadata": {},
   "outputs": [],
   "source": [
    "import pandas as pd\n",
    "import numpy as np\n",
    "\n",
    "df = pd.read_csv('./Catalogue_UTF8.csv')\n",
    "\n",
    "marques_autorisées = ['Audi', 'BMW', 'Dacia', 'Daihatsu', 'Fiat', 'Ford', 'Honda', 'Hyundaï',\n",
    "                    'Jaguar', 'Kia', 'Lancia', 'Mercedes' , 'Mini', 'Nissan', 'Peugeot', 'Renault',\n",
    "                    'Saab', 'Seat', 'Skoda', 'Volkswagen', 'Volvo']\n",
    "df['marque'] = df['marque'].apply(lambda x: x if x in marques_autorisées else np.nan)\n",
    "\n",
    "modèles_autorisés = ['S80 T6', 'Touran 2.0 FSI', 'Polo 1.2 6V', 'New Beatle 1.8', 'Golf 2.0 FSI',\n",
    "                    'Superb 2.8 V6', 'Toledo 1.6', '9.3 1.8T', 'Vel Satis 3.5 V6', 'Megane 2.0 16V',\n",
    "                    'Laguna 2.0T', 'Espace 2.0T', '1007 1.4', 'Primera 1.6', 'Maxima 3.0 V6',\n",
    "                    'Almera 1.8', 'Copper 1.6 16V', 'S500', 'A200', 'Ypsilon 1.4 16V',\n",
    "                    'Picanto 1.1', 'X-Type 2.5 V6', 'Matrix 1.6 FR-V 1.7', 'Mondeo 1.8',\n",
    "                    'Croma 2.2', 'Cuore 1.0', 'Logan 1.6 MPI', 'M5', '120i', 'A3 2.0 FSI','A2 1.4']\n",
    "df['nom'] = df['nom'].apply(lambda x: x if x in modèles_autorisés else np.nan)\n",
    "\n",
    "df['puissance'] = df['puissance'].apply(lambda x: x if 55 <= x <= 507 else np.nan)\n",
    "\n",
    "longueurs_autorisées = ['courte', 'moyenne', 'longue', 'très longue']\n",
    "df['longueur'] = df['longueur'].apply(lambda x: x if x in longueurs_autorisées else np.nan)\n",
    "\n",
    "df['nbPlaces'] = df['nbPlaces'].apply(lambda x: x if 5 <= x <= 7 else np.nan)\n",
    "\n",
    "df['nbPortes'] = df['nbPortes'].apply(lambda x: x if 3 <= x <= 5 else np.nan)\n",
    "\n",
    "couleurs_autorisées = ['blanc', 'bleu', 'gris', 'noir', 'rouge']\n",
    "df['couleur'] = df['couleur'].apply(lambda x: x if x in couleurs_autorisées else np.nan)\n",
    "\n",
    "df['prix'] = df['prix'].apply(lambda x: x if 7500 <= x <= 101300 else np.nan)\n",
    "\n",
    "df['occasion'] = df['occasion'].apply(lambda x: True if x == True else (False if x == False else np.nan))\n",
    "\n",
    "df.to_csv('./Catalogue_cleaned_UTF8.csv', index=False)"
   ]
  },
  {
   "cell_type": "code",
   "execution_count": null,
   "id": "4e77f873-34fc-4c87-aca3-9081d31ef2a4",
   "metadata": {},
   "outputs": [],
   "source": []
  }
 ],
 "metadata": {
  "kernelspec": {
   "display_name": "Python 3 (ipykernel)",
   "language": "python",
   "name": "python3"
  },
  "language_info": {
   "codemirror_mode": {
    "name": "ipython",
    "version": 3
   },
   "file_extension": ".py",
   "mimetype": "text/x-python",
   "name": "python",
   "nbconvert_exporter": "python",
   "pygments_lexer": "ipython3",
   "version": "3.9.18"
  }
 },
 "nbformat": 4,
 "nbformat_minor": 5
}
