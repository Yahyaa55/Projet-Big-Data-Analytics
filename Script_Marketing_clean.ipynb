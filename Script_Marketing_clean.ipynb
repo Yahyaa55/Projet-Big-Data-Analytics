{
 "cells": [
  {
   "cell_type": "code",
   "execution_count": 4,
   "id": "b519fd46-443c-4f94-9b47-3309ce64a455",
   "metadata": {},
   "outputs": [],
   "source": [
    "import pandas as pd\n",
    "import numpy as np\n",
    "\n",
    "df = pd.read_csv('./Marketing_UTF8.csv')\n",
    "\n",
    "df['age'] = df['age'].apply(lambda x: x if 18 <= x <= 84 else np.nan)\n",
    "\n",
    "sex_autorisé = ['M', 'F']\n",
    "df['sexe'] = df['sexe'].apply(lambda x: x if x in sex_autorisé else np.nan)\n",
    "\n",
    "df['taux'] = df['taux'].apply(lambda x: x if 544 <= x <= 74185 else np.nan)\n",
    "df['taux'] = df['taux'].astype('Int64', errors='ignore')\n",
    "\n",
    "SituationFamiliale_autorisé = ['Célibataire', 'Divorcée', 'EnCouple', 'Marié', 'Mariée', 'Seul', 'Seule']\n",
    "df['situationFamiliale'] = df['situationFamiliale'].apply(lambda x: x if x in SituationFamiliale_autorisé else np.nan)\n",
    "\n",
    "df['nbEnfantsAcharge'] = df['nbEnfantsAcharge'].apply(lambda x: x if 0 <= x <= 4 else np.nan)\n",
    "\n",
    "df['2eme voiture'] = df['2eme voiture'].apply(lambda x: True if x == True else (False if x == False else np.nan))\n",
    "\n",
    "df.to_csv('./Marketing_cleaned_UTF8.csv', index=False, encoding='utf-8')"
   ]
  },
  {
   "cell_type": "code",
   "execution_count": null,
   "id": "e7434085-da06-4d82-b3e2-7ca309aa1e29",
   "metadata": {},
   "outputs": [],
   "source": []
  }
 ],
 "metadata": {
  "kernelspec": {
   "display_name": "Python 3 (ipykernel)",
   "language": "python",
   "name": "python3"
  },
  "language_info": {
   "codemirror_mode": {
    "name": "ipython",
    "version": 3
   },
   "file_extension": ".py",
   "mimetype": "text/x-python",
   "name": "python",
   "nbconvert_exporter": "python",
   "pygments_lexer": "ipython3",
   "version": "3.9.18"
  }
 },
 "nbformat": 4,
 "nbformat_minor": 5
}
